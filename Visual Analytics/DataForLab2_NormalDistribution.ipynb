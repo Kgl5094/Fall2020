{
  "nbformat": 4,
  "nbformat_minor": 0,
  "metadata": {
    "colab": {
      "name": "DataForLab2-NormalDistribution.ipynb",
      "provenance": [],
      "authorship_tag": "ABX9TyPeZizt3giPq+G3ugxceO1M",
      "include_colab_link": true
    },
    "kernelspec": {
      "name": "python3",
      "display_name": "Python 3"
    }
  },
  "cells": [
    {
      "cell_type": "markdown",
      "metadata": {
        "id": "view-in-github",
        "colab_type": "text"
      },
      "source": [
        "<a href=\"https://colab.research.google.com/github/dudaspm/Fall2020/blob/master/Visual%20Analytics/DataForLab2_NormalDistribution.ipynb\" target=\"_parent\"><img src=\"https://colab.research.google.com/assets/colab-badge.svg\" alt=\"Open In Colab\"/></a>"
      ]
    },
    {
      "cell_type": "code",
      "metadata": {
        "id": "fmLRa2WuCjDM",
        "colab_type": "code",
        "colab": {}
      },
      "source": [
        "import math\n",
        "def countingBins(x):\n",
        "  bins = []\n",
        "  for i in range(0,11,1):\n",
        "    bins.append(i/10)\n",
        "\n",
        "  binCounting = {}\n",
        "  for i in bins:\n",
        "    binCounting[i] = 0\n",
        "\n",
        "  for i in x:\n",
        "    datapoint = math.ceil(i * 10)/10\n",
        "    if (datapoint in bins):\n",
        "      binCounting[datapoint] = binCounting[datapoint] + 1\n",
        "  return binCounting\n"
      ],
      "execution_count": 53,
      "outputs": []
    },
    {
      "cell_type": "code",
      "metadata": {
        "id": "t0P9YtlKEoMo",
        "colab_type": "code",
        "colab": {}
      },
      "source": [
        "import numpy as np\n",
        "data = []\n",
        "for muRange in range(11):\n",
        "  for sigmaRange in range(5):\n",
        "    mu = muRange/10\n",
        "    sigma = sigmaRange/10\n",
        "    s = np.random.normal(mu, sigma, 1000)\n",
        "    countingBins(s)\n",
        "    for points in countingBins(s):\n",
        "      data.append([mu,sigma,points,countingBins(s)[points]])\n"
      ],
      "execution_count": 54,
      "outputs": []
    },
    {
      "cell_type": "code",
      "metadata": {
        "id": "ZfiWr2ic8mxS",
        "colab_type": "code",
        "colab": {
          "base_uri": "https://localhost:8080/",
          "height": 16
        },
        "outputId": "266f3966-a0bc-46af-d03c-e7719016e0cb"
      },
      "source": [
        "from google.colab import files\n",
        "with open('normalDistributionData.csv', 'w') as f:\n",
        "  f.write(\"mu,sigma,bins,data\\n\")\n",
        "  for d in data:\n",
        "    f.write(\"\"\"%s,%s,%s,%s\\n\"\"\" % (d[0],d[1],d[2],d[3]))\n",
        "files.download('normalDistributionData.csv')"
      ],
      "execution_count": 55,
      "outputs": [
        {
          "output_type": "display_data",
          "data": {
            "application/javascript": [
              "\n",
              "    async function download(id, filename, size) {\n",
              "      if (!google.colab.kernel.accessAllowed) {\n",
              "        return;\n",
              "      }\n",
              "      const div = document.createElement('div');\n",
              "      const label = document.createElement('label');\n",
              "      label.textContent = `Downloading \"${filename}\": `;\n",
              "      div.appendChild(label);\n",
              "      const progress = document.createElement('progress');\n",
              "      progress.max = size;\n",
              "      div.appendChild(progress);\n",
              "      document.body.appendChild(div);\n",
              "\n",
              "      const buffers = [];\n",
              "      let downloaded = 0;\n",
              "\n",
              "      const channel = await google.colab.kernel.comms.open(id);\n",
              "      // Send a message to notify the kernel that we're ready.\n",
              "      channel.send({})\n",
              "\n",
              "      for await (const message of channel.messages) {\n",
              "        // Send a message to notify the kernel that we're ready.\n",
              "        channel.send({})\n",
              "        if (message.buffers) {\n",
              "          for (const buffer of message.buffers) {\n",
              "            buffers.push(buffer);\n",
              "            downloaded += buffer.byteLength;\n",
              "            progress.value = downloaded;\n",
              "          }\n",
              "        }\n",
              "      }\n",
              "      const blob = new Blob(buffers, {type: 'application/binary'});\n",
              "      const a = document.createElement('a');\n",
              "      a.href = window.URL.createObjectURL(blob);\n",
              "      a.download = filename;\n",
              "      div.appendChild(a);\n",
              "      a.click();\n",
              "      div.remove();\n",
              "    }\n",
              "  "
            ],
            "text/plain": [
              "<IPython.core.display.Javascript object>"
            ]
          },
          "metadata": {
            "tags": []
          }
        },
        {
          "output_type": "display_data",
          "data": {
            "application/javascript": [
              "download(\"download_a129b719-ecc0-4dbc-8382-080d32167770\", \"normalDistributionData.csv\", 9025)"
            ],
            "text/plain": [
              "<IPython.core.display.Javascript object>"
            ]
          },
          "metadata": {
            "tags": []
          }
        }
      ]
    }
  ]
}