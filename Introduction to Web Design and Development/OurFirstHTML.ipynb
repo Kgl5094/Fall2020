{
  "nbformat": 4,
  "nbformat_minor": 0,
  "metadata": {
    "colab": {
      "name": "OurFirstHTML.ipynb",
      "provenance": [],
      "collapsed_sections": [],
      "authorship_tag": "ABX9TyNvIYfkrP4ghV8uvtgyWQxk",
      "include_colab_link": true
    },
    "kernelspec": {
      "name": "python3",
      "display_name": "Python 3"
    }
  },
  "cells": [
    {
      "cell_type": "markdown",
      "metadata": {
        "id": "view-in-github",
        "colab_type": "text"
      },
      "source": [
        "<a href=\"https://colab.research.google.com/github/dudaspm/Fall2020/blob/master/Introduction%20to%20Web%20Design%20and%20Development/OurFirstHTML.ipynb\" target=\"_parent\"><img src=\"https://colab.research.google.com/assets/colab-badge.svg\" alt=\"Open In Colab\"/></a>"
      ]
    },
    {
      "cell_type": "markdown",
      "metadata": {
        "id": "p6cs9w7-r3da",
        "colab_type": "text"
      },
      "source": [
        "# Our First HTML Exercise\n",
        "\n"
      ]
    },
    {
      "cell_type": "markdown",
      "metadata": {
        "id": "eC6r9Owroe9W",
        "colab_type": "text"
      },
      "source": [
        "For our first HTML notebook we will be thinking about the following 5 steps:\n",
        "\n",
        "1. Start with content\n",
        "1. Give the document structure\n",
        "1. Identify text elements\n",
        "1. Add an image\n",
        "1. Change how the text looks with style sheets"
      ]
    },
    {
      "cell_type": "markdown",
      "metadata": {
        "id": "HcT0g_wPr2j7",
        "colab_type": "text"
      },
      "source": [
        "## Our first exercise (Just the content)\n",
        "\n",
        "Note, this is from:\n",
        "\n",
        "-- Robbins, J. N. (2018). Learning web design: A beginner's guide to HTML, CSS, JavaScript, and web graphics. 5th Edition \" O'Reilly Media, Inc.\".\n",
        "\n",
        "Link: https://www.learningwebdesign.com/5e/materials/index.html "
      ]
    },
    {
      "cell_type": "code",
      "metadata": {
        "id": "YmxOEW2NoaWC",
        "colab_type": "code",
        "colab": {
          "base_uri": "https://localhost:8080/",
          "height": 68
        },
        "outputId": "5563b1fa-d0ef-4639-d068-43f6c50564c8"
      },
      "source": [
        "%%html\n",
        "Black Goose Bistro\n",
        "\n",
        "The Restaurant\n",
        "The Black Goose Bistro offers casual lunch and dinner fare in a relaxed atmosphere. The menu changes regularly to highlight the freshest local ingredients.\n",
        "\n",
        "Catering\n",
        "You have fun. We'll handle the cooking. Black Goose Catering can handle events from snacks for a meetup to elegant corporate fundraisers.\n",
        "\n",
        "Location and Hours\n",
        "Seekonk, Massachusetts;\n",
        "Monday through Thursday 11am to 9pm; Friday and Saturday, 11am to midnight"
      ],
      "execution_count": 1,
      "outputs": [
        {
          "output_type": "display_data",
          "data": {
            "text/html": [
              "Black Goose Bistro\n",
              "\n",
              "The Restaurant\n",
              "The Black Goose Bistro offers casual lunch and dinner fare in a relaxed atmosphere. The menu changes regularly to highlight the freshest local ingredients.\n",
              "\n",
              "Catering\n",
              "You have fun. We'll handle the cooking. Black Goose Catering can handle events from snacks for a meetup to elegant corporate fundraisers.\n",
              "\n",
              "Location and Hours\n",
              "Seekonk, Massachusetts;\n",
              "Monday through Thursday 11am to 9pm; Friday and Saturday, 11am to midnight"
            ],
            "text/plain": [
              "<IPython.core.display.HTML object>"
            ]
          },
          "metadata": {
            "tags": []
          }
        }
      ]
    },
    {
      "cell_type": "markdown",
      "metadata": {
        "id": "8L2Xu1xEscyh",
        "colab_type": "text"
      },
      "source": [
        "There are 4 ways to run this file:\n",
        "\n",
        "1. In Google Colab\n",
        "\n",
        "2. Locally, on your machine \n",
        "\n",
        "3. Go to: https://www.up.ist.psu.edu/ (WEB SPACE)\n",
        "\n",
        "4. Go to: https://www.personal.psu.edu/ "
      ]
    },
    {
      "cell_type": "markdown",
      "metadata": {
        "id": "1rMSQNcfsFfK",
        "colab_type": "text"
      },
      "source": [
        "Remember, for our purposes, we will be using [Nu Html Checker](https://validator.w3.org/nu) and its guidelines to format our HTML. Let's see how this looks. "
      ]
    },
    {
      "cell_type": "markdown",
      "metadata": {
        "id": "Mx8uex38snUY",
        "colab_type": "text"
      },
      "source": [
        "## HTML Structure"
      ]
    },
    {
      "cell_type": "markdown",
      "metadata": {
        "id": "vmO0DIolsWX8",
        "colab_type": "text"
      },
      "source": [
        "First, a couple of things to point out. One, HTML uses **opening and closing tags**, and then some **content** in the middle. \n",
        "\n",
        "```html\n",
        "<tag> text </tag>\n",
        "```\n",
        "These tags are also called **markup** and the entire markup + content = **element**.\n",
        "\n",
        "HTML is a bit difficult to discuss because it is not very strict with these tags. For our purposes, we will be using [Nu Html Checker](https://validator.w3.org/nu) and its guidelines to format our HTML. Some of the basic rules:\n",
        "\n",
        "1) Include the **document type declarition**, this tells the browser that this is an HTML5 document. \n",
        "\n",
        "```html\n",
        "<!DOCTYPE html>\n",
        "```\n",
        "\n",
        "2) Include the language of the given document \n",
        "\n",
        "```html\n",
        "<html lang=\"en\">\n",
        "```\n",
        "\n",
        "3) tags are all lowercase\n",
        "\n",
        "4) there is always an opening and closing tag\n",
        "\n",
        "5) tags are not mismatched, as in:\n",
        "\n",
        "```html\n",
        "<div><p></div></p> (incorrect!)\n",
        "\n",
        "<div><p></p></div> (correct!)\n",
        "```"
      ]
    },
    {
      "cell_type": "markdown",
      "metadata": {
        "id": "rDMb5vNFtcZa",
        "colab_type": "text"
      },
      "source": [
        "![DOM](https://raw.githubusercontent.com/dudaspm/Fall2020/master/Introduction%20to%20Web%20Design%20and%20Development/images/graph1.svg)"
      ]
    },
    {
      "cell_type": "code",
      "metadata": {
        "id": "tSiP8nHksAxY",
        "colab_type": "code",
        "colab": {
          "base_uri": "https://localhost:8080/",
          "height": 68
        },
        "outputId": "ae88230f-1eff-4e60-a353-c9b93e133154"
      },
      "source": [
        "%%html\n",
        "<!DOCTYPE html>\n",
        "<html>\n",
        "\n",
        "<head>\n",
        "<meta charset=\"utf-8\"> <!-- metadata about our document and the charset we are using, in this case UTF-8 (we will talk about this more later in the semester) -->\n",
        "<title>Black Goose Bistro</title>\n",
        "</head>\n",
        "\n",
        "<body>\n",
        "\n",
        "Black Goose Bistro\n",
        "\n",
        "The Restaurant\n",
        "The Black Goose Bistro offers casual lunch and dinner fare in a relaxed atmosphere. The menu changes regularly to highlight the freshest local ingredients.\n",
        "\n",
        "Catering\n",
        "You have fun. We'll handle the cooking. Black Goose Catering can handle events from snacks for a meetup to elegant corporate fundraisers.\n",
        "\n",
        "Location and Hours\n",
        "Seekonk, Massachusetts;\n",
        "Monday through Thursday 11am to 9pm; Friday and Saturday, 11am to midnight\n",
        "\n",
        "</body>\n",
        "\n",
        "</html>"
      ],
      "execution_count": 4,
      "outputs": [
        {
          "output_type": "display_data",
          "data": {
            "text/html": [
              "<!DOCTYPE html>\n",
              "<html>\n",
              "\n",
              "<head>\n",
              "<meta charset=\"utf-8\"> <!-- metadata about our document and the charset we are using, in this case UTF-8 (we will talk about this more later in the semester) -->\n",
              "<title>Black Goose Bistro</title>\n",
              "</head>\n",
              "\n",
              "<body>\n",
              "\n",
              "Black Goose Bistro\n",
              "\n",
              "The Restaurant\n",
              "The Black Goose Bistro offers casual lunch and dinner fare in a relaxed atmosphere. The menu changes regularly to highlight the freshest local ingredients.\n",
              "\n",
              "Catering\n",
              "You have fun. We'll handle the cooking. Black Goose Catering can handle events from snacks for a meetup to elegant corporate fundraisers.\n",
              "\n",
              "Location and Hours\n",
              "Seekonk, Massachusetts;\n",
              "Monday through Thursday 11am to 9pm; Friday and Saturday, 11am to midnight\n",
              "\n",
              "</body>\n",
              "\n",
              "</html>"
            ],
            "text/plain": [
              "<IPython.core.display.HTML object>"
            ]
          },
          "metadata": {
            "tags": []
          }
        }
      ]
    },
    {
      "cell_type": "markdown",
      "metadata": {
        "id": "tEQRXasOuCme",
        "colab_type": "text"
      },
      "source": [
        "## Text Elements"
      ]
    },
    {
      "cell_type": "markdown",
      "metadata": {
        "id": "d3KwI2scw9Vf",
        "colab_type": "text"
      },
      "source": [
        "> \"The purpose of HTML is to add meaning and structure to the content. It is not intended to describe how the content should look. (pg. 59).\"\n",
        "\n",
        "*Robbins, J. N. (2018). Learning web design: A beginner's guide to HTML, CSS, JavaScript, and web graphics. 5th Edition \" O'Reilly Media, Inc.\".*\n",
        "\n",
        "What we are adding to HTML is the **semantic markup**."
      ]
    },
    {
      "cell_type": "markdown",
      "metadata": {
        "id": "gqI_qlr6x7Ey",
        "colab_type": "text"
      },
      "source": [
        "### New Element\n",
        "\n",
        "- headings\n",
        "```html\n",
        "<h1> heading 1 </h1>\n",
        "<h2> heading 2 </h2>\n",
        "<h3> heading 3 </h3>\n",
        "<h4> heading 4 </h4>\n",
        "<h5> heading 5 </h5>\n",
        "```\n",
        "- paragraph\n",
        "```html\n",
        "<p> paragraph </p>\n",
        "```\n",
        "\n",
        "- emphasized text\n",
        "```html\n",
        "<em> emphasized text </em>\n",
        "```\n",
        "\n",
        "#### Block elements\n",
        "\n",
        "elements that HTML treats as a block of text (a newline is added)\n",
        "\n",
        "- heading and paragraph\n",
        "\n",
        "\n",
        "#### Inline elements\n",
        "\n",
        "elements that HTML treats as part of the given text, content, or blocks\n",
        "\n",
        "- emphasized text\n"
      ]
    },
    {
      "cell_type": "code",
      "metadata": {
        "id": "f2xzG_94tmol",
        "colab_type": "code",
        "colab": {
          "base_uri": "https://localhost:8080/",
          "height": 275
        },
        "outputId": "752d79a1-4b9b-4994-850e-804535d5822d"
      },
      "source": [
        "%%html \n",
        "<!DOCTYPE html>\n",
        "<html>\n",
        "\n",
        "<head>\n",
        "<meta charset=\"utf-8\">\n",
        "<title>Black Goose Bistro</title>\n",
        "</head>\n",
        "\n",
        "<body>\n",
        "\n",
        "<h1>Black Goose Bistro</h1>\n",
        "\n",
        "<h2>The Restaurant</h2>\n",
        "<p>The Black Goose Bistro offers casual lunch and dinner fare in a relaxed atmosphere. The menu changes regularly to highlight the freshest local ingredients.</p>\n",
        "\n",
        "<h2>Catering</h2>\n",
        "<p>You have fun. <em>We'll handle the cooking.</em> Black Goose Catering can handle events from snacks for a meetup to elegant corporate fundraisers.</p>\n",
        "\n",
        "<h2>Location and Hours</h2>\n",
        "<p>Seekonk, Massachusetts;\n",
        "Monday through Thursday 11am to 9pm; Friday and Saturday, 11am to midnight</p>\n",
        "\n",
        "</body>\n",
        "\n",
        "</html>"
      ],
      "execution_count": 5,
      "outputs": [
        {
          "output_type": "display_data",
          "data": {
            "text/html": [
              "<!DOCTYPE html>\n",
              "<html>\n",
              "\n",
              "<head>\n",
              "<meta charset=\"utf-8\">\n",
              "<title>Black Goose Bistro</title>\n",
              "</head>\n",
              "\n",
              "<body>\n",
              "\n",
              "<h1>Black Goose Bistro</h1>\n",
              "\n",
              "<h2>The Restaurant</h2>\n",
              "<p>The Black Goose Bistro offers casual lunch and dinner fare in a relaxed atmosphere. The menu changes regularly to highlight the freshest local ingredients.</p>\n",
              "\n",
              "<h2>Catering</h2>\n",
              "<p>You have fun. <em>We'll handle the cooking.</em> Black Goose Catering can handle events from snacks for a meetup to elegant corporate fundraisers.</p>\n",
              "\n",
              "<h2>Location and Hours</h2>\n",
              "<p>Seekonk, Massachusetts;\n",
              "Monday through Thursday 11am to 9pm; Friday and Saturday, 11am to midnight</p>\n",
              "\n",
              "</body>\n",
              "\n",
              "</html>"
            ],
            "text/plain": [
              "<IPython.core.display.HTML object>"
            ]
          },
          "metadata": {
            "tags": []
          }
        }
      ]
    },
    {
      "cell_type": "markdown",
      "metadata": {
        "id": "TUltixBEzTkB",
        "colab_type": "text"
      },
      "source": [
        "Let's take a look at the Developer Tools"
      ]
    }
  ]
}