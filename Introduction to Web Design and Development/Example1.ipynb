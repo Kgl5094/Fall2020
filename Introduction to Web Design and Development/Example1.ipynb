{
  "nbformat": 4,
  "nbformat_minor": 0,
  "metadata": {
    "colab": {
      "name": "Example1.ipynb",
      "provenance": [],
      "authorship_tag": "ABX9TyOlpR60kEgSvYIsuhs3rQ41",
      "include_colab_link": true
    },
    "kernelspec": {
      "name": "python3",
      "display_name": "Python 3"
    }
  },
  "cells": [
    {
      "cell_type": "markdown",
      "metadata": {
        "id": "view-in-github",
        "colab_type": "text"
      },
      "source": [
        "<a href=\"https://colab.research.google.com/github/dudaspm/Fall2020/blob/master/Introduction%20to%20Web%20Design%20and%20Development/Example1.ipynb\" target=\"_parent\"><img src=\"https://colab.research.google.com/assets/colab-badge.svg\" alt=\"Open In Colab\"/></a>"
      ]
    },
    {
      "cell_type": "markdown",
      "metadata": {
        "id": "RJxTIN7GU20O",
        "colab_type": "text"
      },
      "source": [
        "## Our first exercise (Just the content)\n",
        "\n",
        "Note, this is from:\n",
        "\n",
        "-- Robbins, J. N. (2018). Learning web design: A beginner's guide to HTML, CSS, JavaScript, and web graphics. 5th Edition \" O'Reilly Media, Inc.\".\n",
        "\n",
        "Link: https://www.learningwebdesign.com/5e/materials/index.html "
      ]
    },
    {
      "cell_type": "code",
      "metadata": {
        "id": "XfLkJfR1U0hR",
        "colab_type": "code",
        "colab": {}
      },
      "source": [
        "%%html\n",
        "Black Goose Bistro\n",
        "\n",
        "The Restaurant\n",
        "The Black Goose Bistro offers casual lunch and dinner fare in a relaxed atmosphere. The menu changes regularly to highlight the freshest local ingredients.\n",
        "\n",
        "Catering\n",
        "You have fun. We'll handle the cooking. Black Goose Catering can handle events from snacks for a meetup to elegant corporate fundraisers.\n",
        "\n",
        "Location and Hours\n",
        "Seekonk, Massachusetts;\n",
        "Monday through Thursday 11am to 9pm; Friday and Saturday, 11am to midnight"
      ],
      "execution_count": null,
      "outputs": []
    },
    {
      "cell_type": "code",
      "metadata": {
        "id": "GpTSGOo2VHL0",
        "colab_type": "code",
        "colab": {}
      },
      "source": [
        "%%html\n",
        "<!DOCTYPE html>\n",
        "<html>\n",
        "\n",
        "  <head>\n",
        "    <meta charset=\"utf-8\"> <!-- metadata about our document and the charset we are using, in this case UTF-8 (we will talk about this more later in the semester) -->\n",
        "    <title>Black Goose Bistro</title>\n",
        "  </head>\n",
        "\n",
        "  <body>\n",
        "\n",
        "    Black Goose Bistro\n",
        "\n",
        "    The Restaurant\n",
        "    The Black Goose Bistro offers casual lunch and dinner fare in a relaxed atmosphere. The menu changes regularly to highlight the freshest local ingredients.\n",
        "\n",
        "    Catering\n",
        "    You have fun. We'll handle the cooking. Black Goose Catering can handle events from snacks for a meetup to elegant corporate fundraisers.\n",
        "\n",
        "    Location and Hours\n",
        "    Seekonk, Massachusetts;\n",
        "    Monday through Thursday 11am to 9pm; Friday and Saturday, 11am to midnight\n",
        "\n",
        "  </body>\n",
        "\n",
        "</html>"
      ],
      "execution_count": null,
      "outputs": []
    },
    {
      "cell_type": "code",
      "metadata": {
        "id": "uDmEnODIVMau",
        "colab_type": "code",
        "colab": {
          "base_uri": "https://localhost:8080/",
          "height": 275
        },
        "outputId": "a1c6a21a-0bc4-4646-cd05-7085f28a3a45"
      },
      "source": [
        "%%html \n",
        "<!DOCTYPE html>\n",
        "<html>\n",
        "\n",
        "  <head>\n",
        "    <meta charset=\"utf-8\">\n",
        "    <title>Black Goose Bistro</title>\n",
        "  </head>\n",
        "\n",
        "  <body>\n",
        "\n",
        "    <h1>Black Goose Bistro</h1>\n",
        "\n",
        "    <h2>The Restaurant</h2>\n",
        "    <p>The Black Goose Bistro offers casual lunch and dinner fare in a relaxed atmosphere. The menu changes regularly to highlight the freshest local ingredients.</p>\n",
        "\n",
        "    <h2>Catering</h2>\n",
        "    <p>You have fun. <em>We'll handle the cooking.</em> Black Goose Catering can handle events from snacks for a meetup to elegant corporate fundraisers.</p>\n",
        "\n",
        "    <h2>Location and Hours</h2>\n",
        "    <p>Seekonk, Massachusetts;\n",
        "    Monday through Thursday 11am to 9pm; Friday and Saturday, 11am to midnight</p>\n",
        "\n",
        "  </body>\n",
        "\n",
        "</html>"
      ],
      "execution_count": 1,
      "outputs": [
        {
          "output_type": "display_data",
          "data": {
            "text/html": [
              "<!DOCTYPE html>\n",
              "<html>\n",
              "\n",
              "  <head>\n",
              "    <meta charset=\"utf-8\">\n",
              "    <title>Black Goose Bistro</title>\n",
              "  </head>\n",
              "\n",
              "  <body>\n",
              "\n",
              "    <h1>Black Goose Bistro</h1>\n",
              "\n",
              "    <h2>The Restaurant</h2>\n",
              "    <p>The Black Goose Bistro offers casual lunch and dinner fare in a relaxed atmosphere. The menu changes regularly to highlight the freshest local ingredients.</p>\n",
              "\n",
              "    <h2>Catering</h2>\n",
              "    <p>You have fun. <em>We'll handle the cooking.</em> Black Goose Catering can handle events from snacks for a meetup to elegant corporate fundraisers.</p>\n",
              "\n",
              "    <h2>Location and Hours</h2>\n",
              "    <p>Seekonk, Massachusetts;\n",
              "    Monday through Thursday 11am to 9pm; Friday and Saturday, 11am to midnight</p>\n",
              "\n",
              "  </body>\n",
              "\n",
              "</html>"
            ],
            "text/plain": [
              "<IPython.core.display.HTML object>"
            ]
          },
          "metadata": {
            "tags": []
          }
        }
      ]
    },
    {
      "cell_type": "code",
      "metadata": {
        "id": "O6haSdNVXxaP",
        "colab_type": "code",
        "colab": {}
      },
      "source": [
        "%%html\n",
        "<!DOCTYPE html>\n",
        "<html>\n",
        "\n",
        "  <head>\n",
        "    <meta charset=\"utf-8\">\n",
        "    <title>Black Goose Bistro</title>\n",
        "  </head>\n",
        "\n",
        "  <body>\n",
        "\n",
        "    <h1><img src=\"http://learningwebdesign.com/4e/materials/chapter04/bistro/blackgoose.png\" alt=\"logo\"><br>Black Goose Bistro</h1>\n",
        "\n",
        "    <h2>The Restaurant</h2>\n",
        "    <p>The Black Goose Bistro offers casual lunch and dinner fare in a relaxed atmosphere. The menu changes regularly to highlight the freshest local ingredients.</p>\n",
        "\n",
        "    <h2>Catering</h2>\n",
        "    <p>You have fun. <em>We'll handle the cooking.</em> Black Goose Catering can handle events from snacks for a meetup to elegant corporate fundraisers.</p>\n",
        "\n",
        "    <h2>Location and Hours</h2>\n",
        "    <p>Seekonk, Massachusetts;<br>\n",
        "    Monday through Thursday 11am to 9pm;<br> Friday and Saturday, 11am to midnight</p>\n",
        "\n",
        "  </body>\n",
        "\n",
        "</html>"
      ],
      "execution_count": null,
      "outputs": []
    },
    {
      "cell_type": "code",
      "metadata": {
        "id": "cYV8tqmKavAh",
        "colab_type": "code",
        "colab": {
          "base_uri": "https://localhost:8080/",
          "height": 460
        },
        "outputId": "3608dc2d-7f09-4916-d961-60a7c5f94ab8"
      },
      "source": [
        "%%html\n",
        "<!DOCTYPE html>\n",
        "<html>\n",
        "\n",
        "  <head>\n",
        "    <meta charset=\"utf-8\">\n",
        "    <title>Black Goose Bistro</title>\n",
        "    <style>\n",
        "      body {\n",
        "        background-color: #faf2e4;\n",
        "        margin: 0 10%;\n",
        "        font-family: sans-serif;\n",
        "        }\n",
        "\n",
        "      h1 {\n",
        "        text-align: center;\n",
        "        font-family: serif;\n",
        "        font-weight: normal;\n",
        "        text-transform: uppercase;\n",
        "        border-bottom: 1px solid #57b1dc;\n",
        "        margin-top: 30px;\n",
        "      }\n",
        "\n",
        "      h2 {\n",
        "        color: #d1633c;\n",
        "        font-size: 1em;\n",
        "      }\n",
        "\n",
        "    </style>\n",
        "  </head>\n",
        "\n",
        "  <body>\n",
        "\n",
        "    <h1><img src=\"http://learningwebdesign.com/4e/materials/chapter04/bistro/blackgoose.png\" alt=\"logo\"><br>Black Goose Bistro</h1>\n",
        "\n",
        "    <h2>The Restaurant</h2>\n",
        "    <p>The Black Goose Bistro offers casual lunch and dinner fare in a relaxed atmosphere. The menu changes regularly to highlight the freshest local ingredients.</p>\n",
        "\n",
        "    <h2>Catering</h2>\n",
        "    <p>You have fun. <em>We'll handle the cooking.</em> Black Goose Catering can handle events from snacks for a meetup to elegant corporate fundraisers.</p>\n",
        "\n",
        "    <h2>Location and Hours</h2>\n",
        "    <p>Seekonk, Massachusetts;<br>\n",
        "    Monday through Thursday 11am to 9pm; <br>Friday and Saturday, 11am to midnight</p>\n",
        "\n",
        "  </body>\n"
      ],
      "execution_count": 2,
      "outputs": [
        {
          "output_type": "display_data",
          "data": {
            "text/html": [
              "<!DOCTYPE html>\n",
              "<html>\n",
              "\n",
              "  <head>\n",
              "    <meta charset=\"utf-8\">\n",
              "    <title>Black Goose Bistro</title>\n",
              "    <style>\n",
              "      body {\n",
              "        background-color: #faf2e4;\n",
              "        margin: 0 10%;\n",
              "        font-family: sans-serif;\n",
              "        }\n",
              "\n",
              "      h1 {\n",
              "        text-align: center;\n",
              "        font-family: serif;\n",
              "        font-weight: normal;\n",
              "        text-transform: uppercase;\n",
              "        border-bottom: 1px solid #57b1dc;\n",
              "        margin-top: 30px;\n",
              "      }\n",
              "\n",
              "      h2 {\n",
              "        color: #d1633c;\n",
              "        font-size: 1em;\n",
              "      }\n",
              "\n",
              "    </style>\n",
              "  </head>\n",
              "\n",
              "  <body>\n",
              "\n",
              "    <h1><img src=\"http://learningwebdesign.com/4e/materials/chapter04/bistro/blackgoose.png\" alt=\"logo\"><br>Black Goose Bistro</h1>\n",
              "\n",
              "    <h2>The Restaurant</h2>\n",
              "    <p>The Black Goose Bistro offers casual lunch and dinner fare in a relaxed atmosphere. The menu changes regularly to highlight the freshest local ingredients.</p>\n",
              "\n",
              "    <h2>Catering</h2>\n",
              "    <p>You have fun. <em>We'll handle the cooking.</em> Black Goose Catering can handle events from snacks for a meetup to elegant corporate fundraisers.</p>\n",
              "\n",
              "    <h2>Location and Hours</h2>\n",
              "    <p>Seekonk, Massachusetts;<br>\n",
              "    Monday through Thursday 11am to 9pm; <br>Friday and Saturday, 11am to midnight</p>\n",
              "\n",
              "  </body>"
            ],
            "text/plain": [
              "<IPython.core.display.HTML object>"
            ]
          },
          "metadata": {
            "tags": []
          }
        }
      ]
    },
    {
      "cell_type": "markdown",
      "metadata": {
        "id": "n_qpYWcIaxD5",
        "colab_type": "text"
      },
      "source": [
        "Your turn: \n",
        "\n",
        "Go back to your \"Lab 1 - First Google Notebook\" assignment and transition the notebook into HTML. Also, add the following CSS:\n",
        "1. Change the background color\n",
        "1. Change the headers to a different font type\n",
        "\n",
        "Lastly, publish this document to both the College of IST web space and personal.psu.edu. "
      ]
    }
  ]
}